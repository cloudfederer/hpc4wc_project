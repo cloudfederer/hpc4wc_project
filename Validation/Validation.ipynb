{
 "cells": [
  {
   "cell_type": "code",
   "execution_count": 1,
   "metadata": {},
   "outputs": [],
   "source": [
    "import numpy as np\n"
   ]
  },
  {
   "cell_type": "code",
   "execution_count": 2,
   "metadata": {},
   "outputs": [
    {
     "name": "stdout",
     "output_type": "stream",
     "text": [
      "Code validated!\n"
     ]
    }
   ],
   "source": [
    "# version a1 vs original\n",
    "if np.allclose(np.load('out_field_orig.npy'), np.load('out_field_a1.npy'), rtol=1e-5, atol=1e-8, equal_nan=True):\n",
    "    print(f\"Code validated!\")\n",
    "else:\n",
    "    print(f\"Not validated\")"
   ]
  },
  {
   "cell_type": "code",
   "execution_count": 3,
   "metadata": {},
   "outputs": [
    {
     "name": "stdout",
     "output_type": "stream",
     "text": [
      "Code validated!\n"
     ]
    }
   ],
   "source": [
    "# version a4 vs original\n",
    "if np.allclose(np.load('out_field_orig.npy'), np.load('out_field_a4.npy'), rtol=1e-5, atol=1e-8, equal_nan=True):\n",
    "    print(f\"Code validated!\")\n",
    "else:\n",
    "    print(f\"Not validated\")"
   ]
  },
  {
   "cell_type": "code",
   "execution_count": null,
   "metadata": {},
   "outputs": [],
   "source": []
  }
 ],
 "metadata": {
  "colab": {
   "collapsed_sections": [
    "9q0jI9m7PgmJ",
    "1pXW1HDMUWty",
    "iILFpRZjWoh4"
   ],
   "name": "Evaluation_and_Plotting.ipynb",
   "provenance": []
  },
  "kernelspec": {
   "display_name": "Python 3 (ipykernel)",
   "language": "python",
   "name": "python3"
  },
  "language_info": {
   "codemirror_mode": {
    "name": "ipython",
    "version": 3
   },
   "file_extension": ".py",
   "mimetype": "text/x-python",
   "name": "python",
   "nbconvert_exporter": "python",
   "pygments_lexer": "ipython3",
   "version": "3.9.4"
  }
 },
 "nbformat": 4,
 "nbformat_minor": 4
}
